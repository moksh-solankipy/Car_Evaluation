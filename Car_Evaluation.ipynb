{
  "nbformat": 4,
  "nbformat_minor": 0,
  "metadata": {
    "colab": {
      "name": "Car_Evaluation.ipynb",
      "provenance": [],
      "collapsed_sections": []
    },
    "kernelspec": {
      "name": "python3",
      "display_name": "Python 3"
    }
  },
  "cells": [
    {
      "cell_type": "markdown",
      "metadata": {
        "id": "hm81VUHnS8Ud",
        "colab_type": "text"
      },
      "source": [
        "# import necessory packages"
      ]
    },
    {
      "cell_type": "code",
      "metadata": {
        "id": "72ES4eZYztLO",
        "colab_type": "code",
        "colab": {}
      },
      "source": [
        "import pandas as pd\n",
        "from sklearn.model_selection import train_test_split"
      ],
      "execution_count": 1,
      "outputs": []
    },
    {
      "cell_type": "markdown",
      "metadata": {
        "id": "BrmPHPJFSlec",
        "colab_type": "text"
      },
      "source": [
        "# Data Preprocessing"
      ]
    },
    {
      "cell_type": "code",
      "metadata": {
        "id": "WOVG-zkF1zbT",
        "colab_type": "code",
        "colab": {}
      },
      "source": [
        "path_to_csv = \"/content/car.csv\"\n",
        "data = pd.read_csv(path_to_csv,names=['buying','maint','doors','persons','lug_boot','safety','target_label'])"
      ],
      "execution_count": 2,
      "outputs": []
    },
    {
      "cell_type": "code",
      "metadata": {
        "id": "6off1F29utcK",
        "colab_type": "code",
        "colab": {}
      },
      "source": [
        "# replace low, med, high, vhigh with 0,1,2,3 repectively in 'buying' column\n",
        "data.replace({'buying': { 'low':0, 'med':1, 'high':2, 'vhigh':3 }},inplace=True)\n",
        "\n",
        "# replace low, med, high, vhigh with 0,1,2,3 repectively in 'maint' column\n",
        "data.replace({'maint': { 'low':0, 'med':1, 'high':2, 'vhigh':3 }},inplace=True)\n",
        "\n",
        "# replace 5more with 5 in 'doors' column\n",
        "data.replace({'doors': { '5more':5 }},inplace=True)\n",
        "\n",
        "# replace more with 5 in 'persons' column\n",
        "data.replace({'persons': { 'more':5 }},inplace=True)\n",
        "\n",
        "# convert 'doors' and 'persons' column to int dtype\n",
        "data = data.astype({ 'doors':int, 'persons':int })\n",
        "\n",
        "# replace small, med, big with 0, 1, 2 in 'lug_boot' column\n",
        "data.replace({'lug_boot': { 'small':0, 'med':1, 'big':2 }},inplace=True)\n",
        "\n",
        "# replace low, med, high with 0, 1, 2 in 'safety' column\n",
        "data.replace({ 'safety': { 'low':0, 'med':1, 'high':2 }},inplace=True)"
      ],
      "execution_count": 3,
      "outputs": []
    },
    {
      "cell_type": "code",
      "metadata": {
        "id": "R-bprlhkF-JE",
        "colab_type": "code",
        "colab": {}
      },
      "source": [
        "# replace \"unacc\"(unacceptable),\"acc\"(acceptable),\"good\",\"vgood\" with 0, 1, 2, 3 repectively in 'target_label' column\n",
        "data.replace({'target_label' : { 'unacc' : 0, 'acc' : 1, 'good' : 2,'vgood':3 }},inplace=True)"
      ],
      "execution_count": 4,
      "outputs": []
    },
    {
      "cell_type": "code",
      "metadata": {
        "id": "u28R1rUmHLQo",
        "colab_type": "code",
        "colab": {
          "base_uri": "https://localhost:8080/",
          "height": 419
        },
        "outputId": "be9f734e-8b6c-4ed0-d539-986881168774"
      },
      "source": [
        "data"
      ],
      "execution_count": 5,
      "outputs": [
        {
          "output_type": "execute_result",
          "data": {
            "text/html": [
              "<div>\n",
              "<style scoped>\n",
              "    .dataframe tbody tr th:only-of-type {\n",
              "        vertical-align: middle;\n",
              "    }\n",
              "\n",
              "    .dataframe tbody tr th {\n",
              "        vertical-align: top;\n",
              "    }\n",
              "\n",
              "    .dataframe thead th {\n",
              "        text-align: right;\n",
              "    }\n",
              "</style>\n",
              "<table border=\"1\" class=\"dataframe\">\n",
              "  <thead>\n",
              "    <tr style=\"text-align: right;\">\n",
              "      <th></th>\n",
              "      <th>buying</th>\n",
              "      <th>maint</th>\n",
              "      <th>doors</th>\n",
              "      <th>persons</th>\n",
              "      <th>lug_boot</th>\n",
              "      <th>safety</th>\n",
              "      <th>target_label</th>\n",
              "    </tr>\n",
              "  </thead>\n",
              "  <tbody>\n",
              "    <tr>\n",
              "      <th>0</th>\n",
              "      <td>3</td>\n",
              "      <td>3</td>\n",
              "      <td>2</td>\n",
              "      <td>2</td>\n",
              "      <td>0</td>\n",
              "      <td>0</td>\n",
              "      <td>0</td>\n",
              "    </tr>\n",
              "    <tr>\n",
              "      <th>1</th>\n",
              "      <td>3</td>\n",
              "      <td>3</td>\n",
              "      <td>2</td>\n",
              "      <td>2</td>\n",
              "      <td>0</td>\n",
              "      <td>1</td>\n",
              "      <td>0</td>\n",
              "    </tr>\n",
              "    <tr>\n",
              "      <th>2</th>\n",
              "      <td>3</td>\n",
              "      <td>3</td>\n",
              "      <td>2</td>\n",
              "      <td>2</td>\n",
              "      <td>0</td>\n",
              "      <td>2</td>\n",
              "      <td>0</td>\n",
              "    </tr>\n",
              "    <tr>\n",
              "      <th>3</th>\n",
              "      <td>3</td>\n",
              "      <td>3</td>\n",
              "      <td>2</td>\n",
              "      <td>2</td>\n",
              "      <td>1</td>\n",
              "      <td>0</td>\n",
              "      <td>0</td>\n",
              "    </tr>\n",
              "    <tr>\n",
              "      <th>4</th>\n",
              "      <td>3</td>\n",
              "      <td>3</td>\n",
              "      <td>2</td>\n",
              "      <td>2</td>\n",
              "      <td>1</td>\n",
              "      <td>1</td>\n",
              "      <td>0</td>\n",
              "    </tr>\n",
              "    <tr>\n",
              "      <th>...</th>\n",
              "      <td>...</td>\n",
              "      <td>...</td>\n",
              "      <td>...</td>\n",
              "      <td>...</td>\n",
              "      <td>...</td>\n",
              "      <td>...</td>\n",
              "      <td>...</td>\n",
              "    </tr>\n",
              "    <tr>\n",
              "      <th>1723</th>\n",
              "      <td>0</td>\n",
              "      <td>0</td>\n",
              "      <td>5</td>\n",
              "      <td>5</td>\n",
              "      <td>1</td>\n",
              "      <td>1</td>\n",
              "      <td>2</td>\n",
              "    </tr>\n",
              "    <tr>\n",
              "      <th>1724</th>\n",
              "      <td>0</td>\n",
              "      <td>0</td>\n",
              "      <td>5</td>\n",
              "      <td>5</td>\n",
              "      <td>1</td>\n",
              "      <td>2</td>\n",
              "      <td>3</td>\n",
              "    </tr>\n",
              "    <tr>\n",
              "      <th>1725</th>\n",
              "      <td>0</td>\n",
              "      <td>0</td>\n",
              "      <td>5</td>\n",
              "      <td>5</td>\n",
              "      <td>2</td>\n",
              "      <td>0</td>\n",
              "      <td>0</td>\n",
              "    </tr>\n",
              "    <tr>\n",
              "      <th>1726</th>\n",
              "      <td>0</td>\n",
              "      <td>0</td>\n",
              "      <td>5</td>\n",
              "      <td>5</td>\n",
              "      <td>2</td>\n",
              "      <td>1</td>\n",
              "      <td>2</td>\n",
              "    </tr>\n",
              "    <tr>\n",
              "      <th>1727</th>\n",
              "      <td>0</td>\n",
              "      <td>0</td>\n",
              "      <td>5</td>\n",
              "      <td>5</td>\n",
              "      <td>2</td>\n",
              "      <td>2</td>\n",
              "      <td>3</td>\n",
              "    </tr>\n",
              "  </tbody>\n",
              "</table>\n",
              "<p>1728 rows × 7 columns</p>\n",
              "</div>"
            ],
            "text/plain": [
              "      buying  maint  doors  persons  lug_boot  safety  target_label\n",
              "0          3      3      2        2         0       0             0\n",
              "1          3      3      2        2         0       1             0\n",
              "2          3      3      2        2         0       2             0\n",
              "3          3      3      2        2         1       0             0\n",
              "4          3      3      2        2         1       1             0\n",
              "...      ...    ...    ...      ...       ...     ...           ...\n",
              "1723       0      0      5        5         1       1             2\n",
              "1724       0      0      5        5         1       2             3\n",
              "1725       0      0      5        5         2       0             0\n",
              "1726       0      0      5        5         2       1             2\n",
              "1727       0      0      5        5         2       2             3\n",
              "\n",
              "[1728 rows x 7 columns]"
            ]
          },
          "metadata": {
            "tags": []
          },
          "execution_count": 5
        }
      ]
    },
    {
      "cell_type": "code",
      "metadata": {
        "id": "ptyvcc11cZAy",
        "colab_type": "code",
        "colab": {
          "base_uri": "https://localhost:8080/",
          "height": 510
        },
        "outputId": "890490a5-998d-4d89-ea25-e14e8b587eda"
      },
      "source": [
        "print(\"Column DataTypes - \\n\",data.dtypes)\n",
        "print()\n",
        "print(\"Sum of Null Values - \\n\",data.isnull().sum())\n",
        "print()\n",
        "print(\"Sum of None values - \\n\",data.isna().sum())"
      ],
      "execution_count": 6,
      "outputs": [
        {
          "output_type": "stream",
          "text": [
            "Column DataTypes - \n",
            " buying          int64\n",
            "maint           int64\n",
            "doors           int64\n",
            "persons         int64\n",
            "lug_boot        int64\n",
            "safety          int64\n",
            "target_label    int64\n",
            "dtype: object\n",
            "\n",
            "Sum of Null Values - \n",
            " buying          0\n",
            "maint           0\n",
            "doors           0\n",
            "persons         0\n",
            "lug_boot        0\n",
            "safety          0\n",
            "target_label    0\n",
            "dtype: int64\n",
            "\n",
            "Sum of None values - \n",
            " buying          0\n",
            "maint           0\n",
            "doors           0\n",
            "persons         0\n",
            "lug_boot        0\n",
            "safety          0\n",
            "target_label    0\n",
            "dtype: int64\n"
          ],
          "name": "stdout"
        }
      ]
    },
    {
      "cell_type": "code",
      "metadata": {
        "id": "gh0x6OZIdsTa",
        "colab_type": "code",
        "colab": {}
      },
      "source": [
        "# target variable\n",
        "target_variable = 'target_label'\n",
        "y = data[target_variable]\n",
        "\n",
        "# features\n",
        "X = data[data.columns.difference([target_variable])]"
      ],
      "execution_count": 7,
      "outputs": []
    },
    {
      "cell_type": "code",
      "metadata": {
        "id": "dmQ5CpNYerJl",
        "colab_type": "code",
        "colab": {}
      },
      "source": [
        "# split dataset\n",
        "X_train,X_test,y_train,y_test = train_test_split(X,y,test_size=0.30)"
      ],
      "execution_count": 8,
      "outputs": []
    },
    {
      "cell_type": "markdown",
      "metadata": {
        "id": "iKZ-_iILfCDi",
        "colab_type": "text"
      },
      "source": [
        "# Support Vector Classfication"
      ]
    },
    {
      "cell_type": "code",
      "metadata": {
        "id": "3xpchFygT_MG",
        "colab_type": "code",
        "colab": {}
      },
      "source": [
        "from sklearn.svm import SVC"
      ],
      "execution_count": 9,
      "outputs": []
    },
    {
      "cell_type": "code",
      "metadata": {
        "id": "9zajjRYIUGq7",
        "colab_type": "code",
        "colab": {}
      },
      "source": [
        "svcClf = SVC().fit(X_train,y_train)"
      ],
      "execution_count": 10,
      "outputs": []
    },
    {
      "cell_type": "code",
      "metadata": {
        "id": "eslmmIUOfP8N",
        "colab_type": "code",
        "colab": {
          "base_uri": "https://localhost:8080/",
          "height": 34
        },
        "outputId": "e578a64f-934e-4239-b3ef-dcba0e725456"
      },
      "source": [
        "svcClf.score(X_train,y_train) # train-set score"
      ],
      "execution_count": 11,
      "outputs": [
        {
          "output_type": "execute_result",
          "data": {
            "text/plain": [
              "0.9429280397022333"
            ]
          },
          "metadata": {
            "tags": []
          },
          "execution_count": 11
        }
      ]
    },
    {
      "cell_type": "code",
      "metadata": {
        "id": "tajz-b0KWCY-",
        "colab_type": "code",
        "colab": {
          "base_uri": "https://localhost:8080/",
          "height": 34
        },
        "outputId": "7d41b125-e2c4-49de-c473-6b45f6bec1c9"
      },
      "source": [
        "svcClf.score(X_test,y_test) # test-set score"
      ],
      "execution_count": 12,
      "outputs": [
        {
          "output_type": "execute_result",
          "data": {
            "text/plain": [
              "0.905587668593449"
            ]
          },
          "metadata": {
            "tags": []
          },
          "execution_count": 12
        }
      ]
    },
    {
      "cell_type": "code",
      "metadata": {
        "id": "Lq0JH3Xvg5iY",
        "colab_type": "code",
        "colab": {
          "base_uri": "https://localhost:8080/",
          "height": 34
        },
        "outputId": "ee057b71-c2f0-40b6-9924-8561349707f5"
      },
      "source": [
        "svcClf.predict([X_test.iloc[1]]) # predicted using 1st row of Test set"
      ],
      "execution_count": 13,
      "outputs": [
        {
          "output_type": "execute_result",
          "data": {
            "text/plain": [
              "array([0])"
            ]
          },
          "metadata": {
            "tags": []
          },
          "execution_count": 13
        }
      ]
    },
    {
      "cell_type": "markdown",
      "metadata": {
        "id": "Y8rK2JY5iliK",
        "colab_type": "text"
      },
      "source": [
        "# Stochastic Gradient Descent"
      ]
    },
    {
      "cell_type": "code",
      "metadata": {
        "id": "XqPcPZbhiuz_",
        "colab_type": "code",
        "colab": {}
      },
      "source": [
        "from sklearn.linear_model import SGDClassifier"
      ],
      "execution_count": 14,
      "outputs": []
    },
    {
      "cell_type": "code",
      "metadata": {
        "id": "bE-bNWh9i-mB",
        "colab_type": "code",
        "colab": {}
      },
      "source": [
        "sgdClf = SGDClassifier().fit(X_train,y_train)"
      ],
      "execution_count": 15,
      "outputs": []
    },
    {
      "cell_type": "code",
      "metadata": {
        "id": "hjqz_ktcjQQe",
        "colab_type": "code",
        "colab": {
          "base_uri": "https://localhost:8080/",
          "height": 34
        },
        "outputId": "7657217e-fef2-45e5-c5f8-d9eadb6c37fe"
      },
      "source": [
        "sgdClf.score(X_train,y_train) # train-set score"
      ],
      "execution_count": 16,
      "outputs": [
        {
          "output_type": "execute_result",
          "data": {
            "text/plain": [
              "0.8320926385442514"
            ]
          },
          "metadata": {
            "tags": []
          },
          "execution_count": 16
        }
      ]
    },
    {
      "cell_type": "code",
      "metadata": {
        "id": "sY6bXUgAk90d",
        "colab_type": "code",
        "colab": {
          "base_uri": "https://localhost:8080/",
          "height": 34
        },
        "outputId": "3efd24b5-5525-4840-8be5-dd0187d6fee4"
      },
      "source": [
        "sgdClf.score(X_test,y_test) # test-set score"
      ],
      "execution_count": 17,
      "outputs": [
        {
          "output_type": "execute_result",
          "data": {
            "text/plain": [
              "0.8400770712909441"
            ]
          },
          "metadata": {
            "tags": []
          },
          "execution_count": 17
        }
      ]
    },
    {
      "cell_type": "code",
      "metadata": {
        "id": "6R_PgIEO1Cce",
        "colab_type": "code",
        "colab": {
          "base_uri": "https://localhost:8080/",
          "height": 34
        },
        "outputId": "e3a93af9-db65-4bda-8fa5-08b1c0c435eb"
      },
      "source": [
        "sgdClf.predict([X_test.iloc[1]]) # predicted using 1st row of Test set"
      ],
      "execution_count": 18,
      "outputs": [
        {
          "output_type": "execute_result",
          "data": {
            "text/plain": [
              "array([0])"
            ]
          },
          "metadata": {
            "tags": []
          },
          "execution_count": 18
        }
      ]
    },
    {
      "cell_type": "markdown",
      "metadata": {
        "id": "ZJpUCLe3oWXh",
        "colab_type": "text"
      },
      "source": [
        "# K Nearest Neighbors"
      ]
    },
    {
      "cell_type": "code",
      "metadata": {
        "id": "WB2g_gC6obO1",
        "colab_type": "code",
        "colab": {}
      },
      "source": [
        "from sklearn.neighbors import KNeighborsClassifier"
      ],
      "execution_count": 19,
      "outputs": []
    },
    {
      "cell_type": "code",
      "metadata": {
        "id": "USzGvBoKqQyb",
        "colab_type": "code",
        "colab": {}
      },
      "source": [
        "knclf = KNeighborsClassifier(n_neighbors=4).fit(X_train,y_train)"
      ],
      "execution_count": 20,
      "outputs": []
    },
    {
      "cell_type": "code",
      "metadata": {
        "id": "4OMPj13sq-lT",
        "colab_type": "code",
        "colab": {
          "base_uri": "https://localhost:8080/",
          "height": 34
        },
        "outputId": "837091b7-c70c-4523-b874-b3b05c7e2ec5"
      },
      "source": [
        "knclf.score(X_train,y_train) # train-set score"
      ],
      "execution_count": 21,
      "outputs": [
        {
          "output_type": "execute_result",
          "data": {
            "text/plain": [
              "0.9619520264681555"
            ]
          },
          "metadata": {
            "tags": []
          },
          "execution_count": 21
        }
      ]
    },
    {
      "cell_type": "code",
      "metadata": {
        "id": "qd7M6Eo2rL_7",
        "colab_type": "code",
        "colab": {
          "base_uri": "https://localhost:8080/",
          "height": 34
        },
        "outputId": "87f893f4-8ed4-4df8-a164-78050164f555"
      },
      "source": [
        "knclf.score(X_test,y_test) # test-set score"
      ],
      "execution_count": 22,
      "outputs": [
        {
          "output_type": "execute_result",
          "data": {
            "text/plain": [
              "0.9229287090558767"
            ]
          },
          "metadata": {
            "tags": []
          },
          "execution_count": 22
        }
      ]
    },
    {
      "cell_type": "code",
      "metadata": {
        "id": "JMmOrk_Y1JGA",
        "colab_type": "code",
        "colab": {
          "base_uri": "https://localhost:8080/",
          "height": 34
        },
        "outputId": "88444314-852c-4669-b01f-ed731f6a6d95"
      },
      "source": [
        "knclf.predict([X_test.iloc[1]]) # predicted using 1st row of Test set "
      ],
      "execution_count": 23,
      "outputs": [
        {
          "output_type": "execute_result",
          "data": {
            "text/plain": [
              "array([0])"
            ]
          },
          "metadata": {
            "tags": []
          },
          "execution_count": 23
        }
      ]
    },
    {
      "cell_type": "markdown",
      "metadata": {
        "id": "nonSwFUQsmM1",
        "colab_type": "text"
      },
      "source": [
        "# Categorical Naive Bayes"
      ]
    },
    {
      "cell_type": "code",
      "metadata": {
        "id": "qVJf1pHvs8aO",
        "colab_type": "code",
        "colab": {}
      },
      "source": [
        "from sklearn.naive_bayes import CategoricalNB"
      ],
      "execution_count": 24,
      "outputs": []
    },
    {
      "cell_type": "code",
      "metadata": {
        "id": "h9iV81DZtEGh",
        "colab_type": "code",
        "colab": {}
      },
      "source": [
        "ctnbClf = CategoricalNB().fit(X_train,y_train)"
      ],
      "execution_count": 25,
      "outputs": []
    },
    {
      "cell_type": "code",
      "metadata": {
        "id": "X_qdW_7JtOOS",
        "colab_type": "code",
        "colab": {
          "base_uri": "https://localhost:8080/",
          "height": 34
        },
        "outputId": "d6a44a02-38c3-482d-ca17-dee9860fe8cf"
      },
      "source": [
        "ctnbClf.score(X_train,y_train) # train-set score"
      ],
      "execution_count": 26,
      "outputs": [
        {
          "output_type": "execute_result",
          "data": {
            "text/plain": [
              "0.8808933002481389"
            ]
          },
          "metadata": {
            "tags": []
          },
          "execution_count": 26
        }
      ]
    },
    {
      "cell_type": "code",
      "metadata": {
        "id": "s16k8tBatcLw",
        "colab_type": "code",
        "colab": {
          "base_uri": "https://localhost:8080/",
          "height": 34
        },
        "outputId": "176bd037-17f5-47aa-bea0-990647338f96"
      },
      "source": [
        "ctnbClf.score(X_test,y_test) # test-set score"
      ],
      "execution_count": 27,
      "outputs": [
        {
          "output_type": "execute_result",
          "data": {
            "text/plain": [
              "0.859344894026975"
            ]
          },
          "metadata": {
            "tags": []
          },
          "execution_count": 27
        }
      ]
    },
    {
      "cell_type": "code",
      "metadata": {
        "id": "xy4z9VZD1Qa4",
        "colab_type": "code",
        "colab": {
          "base_uri": "https://localhost:8080/",
          "height": 34
        },
        "outputId": "f880c59a-4ad9-4c6f-a8a4-29cb18ea0d90"
      },
      "source": [
        "ctnbClf.predict([X_test.iloc[1]]) # predicted using 1st row of Test set"
      ],
      "execution_count": 28,
      "outputs": [
        {
          "output_type": "execute_result",
          "data": {
            "text/plain": [
              "array([0])"
            ]
          },
          "metadata": {
            "tags": []
          },
          "execution_count": 28
        }
      ]
    },
    {
      "cell_type": "markdown",
      "metadata": {
        "id": "UJCbfBKjuErd",
        "colab_type": "text"
      },
      "source": [
        "# Decision Tree Classifier"
      ]
    },
    {
      "cell_type": "code",
      "metadata": {
        "id": "4e01sXkTuIa6",
        "colab_type": "code",
        "colab": {}
      },
      "source": [
        "from sklearn.tree import DecisionTreeClassifier"
      ],
      "execution_count": 29,
      "outputs": []
    },
    {
      "cell_type": "code",
      "metadata": {
        "id": "E7UAqogJuQGb",
        "colab_type": "code",
        "colab": {}
      },
      "source": [
        "dtreeClf = DecisionTreeClassifier(max_features=None).fit(X_train,y_train)"
      ],
      "execution_count": 30,
      "outputs": []
    },
    {
      "cell_type": "code",
      "metadata": {
        "id": "DBkSb1waujaG",
        "colab_type": "code",
        "colab": {
          "base_uri": "https://localhost:8080/",
          "height": 34
        },
        "outputId": "c8de42a1-96e5-4dba-967d-d2ffbed032b0"
      },
      "source": [
        "dtreeClf.score(X_train,y_train) # train-set score"
      ],
      "execution_count": 31,
      "outputs": [
        {
          "output_type": "execute_result",
          "data": {
            "text/plain": [
              "1.0"
            ]
          },
          "metadata": {
            "tags": []
          },
          "execution_count": 31
        }
      ]
    },
    {
      "cell_type": "code",
      "metadata": {
        "id": "YIuBXHHMup-8",
        "colab_type": "code",
        "colab": {
          "base_uri": "https://localhost:8080/",
          "height": 34
        },
        "outputId": "b432b0bd-bb7e-4987-f898-771d02bab29f"
      },
      "source": [
        "dtreeClf.score(X_test,y_test) # test-set score"
      ],
      "execution_count": 32,
      "outputs": [
        {
          "output_type": "execute_result",
          "data": {
            "text/plain": [
              "0.9903660886319846"
            ]
          },
          "metadata": {
            "tags": []
          },
          "execution_count": 32
        }
      ]
    },
    {
      "cell_type": "code",
      "metadata": {
        "id": "6DVRnHPz1aKg",
        "colab_type": "code",
        "colab": {
          "base_uri": "https://localhost:8080/",
          "height": 34
        },
        "outputId": "0931c116-ce9b-4374-c847-bf20c17f7d36"
      },
      "source": [
        "dtreeClf.predict([X_test.iloc[1]]) # predicted using 1st row of Test set"
      ],
      "execution_count": 33,
      "outputs": [
        {
          "output_type": "execute_result",
          "data": {
            "text/plain": [
              "array([0])"
            ]
          },
          "metadata": {
            "tags": []
          },
          "execution_count": 33
        }
      ]
    },
    {
      "cell_type": "markdown",
      "metadata": {
        "id": "vsZqaC-qCIS9",
        "colab_type": "text"
      },
      "source": [
        "# Random Forest Classifier"
      ]
    },
    {
      "cell_type": "code",
      "metadata": {
        "id": "z8RnyWWtCOQ5",
        "colab_type": "code",
        "colab": {}
      },
      "source": [
        "from sklearn.ensemble import RandomForestClassifier"
      ],
      "execution_count": 34,
      "outputs": []
    },
    {
      "cell_type": "code",
      "metadata": {
        "id": "TLmwJNM5Cxpz",
        "colab_type": "code",
        "colab": {}
      },
      "source": [
        "rfClf = RandomForestClassifier(max_features=None).fit(X_train,y_train)"
      ],
      "execution_count": 35,
      "outputs": []
    },
    {
      "cell_type": "code",
      "metadata": {
        "id": "wLeLAlIXDVxQ",
        "colab_type": "code",
        "colab": {
          "base_uri": "https://localhost:8080/",
          "height": 34
        },
        "outputId": "4267bf6b-0e42-48eb-e9a1-979a6f974b79"
      },
      "source": [
        "rfClf.score(X_train,y_train) # train-set score "
      ],
      "execution_count": 36,
      "outputs": [
        {
          "output_type": "execute_result",
          "data": {
            "text/plain": [
              "1.0"
            ]
          },
          "metadata": {
            "tags": []
          },
          "execution_count": 36
        }
      ]
    },
    {
      "cell_type": "code",
      "metadata": {
        "id": "kBf93bqEDcOj",
        "colab_type": "code",
        "colab": {
          "base_uri": "https://localhost:8080/",
          "height": 34
        },
        "outputId": "0560a300-2a35-407b-9915-eaef5d4c1065"
      },
      "source": [
        "rfClf.score(X_test,y_test) # test-set score"
      ],
      "execution_count": 37,
      "outputs": [
        {
          "output_type": "execute_result",
          "data": {
            "text/plain": [
              "0.9788053949903661"
            ]
          },
          "metadata": {
            "tags": []
          },
          "execution_count": 37
        }
      ]
    },
    {
      "cell_type": "code",
      "metadata": {
        "id": "rmoheWkpDqdT",
        "colab_type": "code",
        "colab": {
          "base_uri": "https://localhost:8080/",
          "height": 34
        },
        "outputId": "1b537f3e-c642-47d0-8e99-02aeb776ece1"
      },
      "source": [
        "rfClf.predict([X_test.iloc[1]]) # predicted using 1st row of Test set"
      ],
      "execution_count": 38,
      "outputs": [
        {
          "output_type": "execute_result",
          "data": {
            "text/plain": [
              "array([0])"
            ]
          },
          "metadata": {
            "tags": []
          },
          "execution_count": 38
        }
      ]
    }
  ]
}